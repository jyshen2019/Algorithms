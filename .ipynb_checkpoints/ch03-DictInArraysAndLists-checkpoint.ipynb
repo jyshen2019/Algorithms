{
 "cells": [
  {
   "cell_type": "markdown",
   "metadata": {},
   "source": [
    "Lists and Arrays.\n",
    "\n",
    "Both are recursive objects.\n",
    "\n",
    "Choppping off the first element in a list leaves a smaller list.  Same is the case with string of characters.\n",
    "\n",
    "Splitting an array leaves two small arrays.\n",
    "\n",
    "Simpler list processing, divide-and-conquer algorithms, and binary searches are nicely facilitated by this recursive property of arrays and lists.\n",
    "\n",
    "Containers are data structures where content of the data structure is independent of the storage and retrieval of the data. Stack and Queues are containers.\n",
    "\n",
    "Dictionaries, on the other hand are abstract data type that retrieve based on key values or content.\n",
    "\n",
    "Stacks vs. Queues, LIFO vs. FIFO, and DFS vs. BFS.\n",
    "\n",
    "Dictionaries.\n",
    "\n",
    "Insert/add to a dictionary:"
   ]
  },
  {
   "cell_type": "code",
   "execution_count": 1,
   "metadata": {},
   "outputs": [
    {
     "name": "stdout",
     "output_type": "stream",
     "text": [
      "{'a': 1, 'b': 2, 'c': 3}\n",
      "{'a': 1, 'b': 2, 'c': 3, 'd': 4}\n"
     ]
    }
   ],
   "source": [
    "dd = {'a': 1, 'b': 2, 'c': 3}\n",
    "\n",
    "print(dd)\n",
    "\n",
    "dd['d'] = 4\n",
    "\n",
    "print(dd)"
   ]
  },
  {
   "cell_type": "markdown",
   "metadata": {},
   "source": [
    "deleting a data item in a dictionary:"
   ]
  },
  {
   "cell_type": "code",
   "execution_count": 2,
   "metadata": {},
   "outputs": [
    {
     "name": "stdout",
     "output_type": "stream",
     "text": [
      "{'a': 1, 'b': 2, 'c': 3}\n"
     ]
    }
   ],
   "source": [
    "del dd['d']\n",
    "\n",
    "print(dd)"
   ]
  },
  {
   "cell_type": "markdown",
   "metadata": {},
   "source": [
    "or ..."
   ]
  },
  {
   "cell_type": "code",
   "execution_count": 3,
   "metadata": {},
   "outputs": [
    {
     "name": "stdout",
     "output_type": "stream",
     "text": [
      "{'a': 1, 'b': 2}\n"
     ]
    }
   ],
   "source": [
    "dd.pop('c')\n",
    "\n",
    "print(dd)"
   ]
  },
  {
   "cell_type": "markdown",
   "metadata": {},
   "source": [
    "Retrieve the item with the largest and smallest keys ..."
   ]
  },
  {
   "cell_type": "code",
   "execution_count": 4,
   "metadata": {},
   "outputs": [
    {
     "name": "stdout",
     "output_type": "stream",
     "text": [
      "{'a': 1, 'b': 2, 'c': 3, 'd': 4, 'z': 26}\n",
      "26\n",
      "1\n"
     ]
    }
   ],
   "source": [
    "dd['c'] = 3\n",
    "\n",
    "dd['d'] = 4\n",
    "\n",
    "dd['z'] = 26\n",
    "\n",
    "print(dd)\n",
    "\n",
    "print(dd[max(dd)]) # returns largest key's value\n",
    "\n",
    "print(dd[min(dd)]) # returns smallest key's value"
   ]
  },
  {
   "cell_type": "markdown",
   "metadata": {},
   "source": [
    "Presenting dictionary data items in sorted order:"
   ]
  },
  {
   "cell_type": "code",
   "execution_count": 5,
   "metadata": {},
   "outputs": [
    {
     "name": "stdout",
     "output_type": "stream",
     "text": [
      "{'b': 2, 'z': 26, 'c': 3, 'd': 4, 'a': 1, 'u': 10}\n",
      "{'a': 1, 'b': 2, 'c': 3, 'd': 4, 'u': 10, 'z': 26}\n"
     ]
    }
   ],
   "source": [
    "d1 = {'b': 2,'z': 26, 'c': 3, 'd': 4, 'a': 1, 'u': 10}\n",
    "\n",
    "sk = sorted(d1) # sorted returns sorted d1.keys()\n",
    "\n",
    "d2 = {}\n",
    "for k in sk:\n",
    "    d2[k] = d1[k]\n",
    "\n",
    "print(d1)\n",
    "\n",
    "print(d2)\n",
    "    "
   ]
  },
  {
   "cell_type": "markdown",
   "metadata": {},
   "source": [
    "Dictionary implementation:\n",
    "\n",
    "Sorted array or unsorted array Singly linked list, sorted or unsorted Doubly linked list, sorted or unsorted\n",
    "\n",
    "What are asymptotic worst-case running time in big O notation of each of the 7 dictionary operations?\n",
    "\n",
    "Search\n",
    "Insert\n",
    "Delete\n",
    "Traverse: Successor\n",
    "Traverse: Predecessor\n",
    "Maximum\n",
    "Minimum\n",
    "Each has its advantages for certain operations. So when seleting implementation, pick the one that matters for the most common operations for the dictionary in questiom.\n",
    "\n",
    "Fast search vs. fast update.\n",
    "\n",
    "See ch03-BST.py"
   ]
  },
  {
   "cell_type": "code",
   "execution_count": null,
   "metadata": {},
   "outputs": [],
   "source": []
  }
 ],
 "metadata": {
  "kernelspec": {
   "display_name": "Python 3",
   "language": "python",
   "name": "python3"
  },
  "language_info": {
   "codemirror_mode": {
    "name": "ipython",
    "version": 3
   },
   "file_extension": ".py",
   "mimetype": "text/x-python",
   "name": "python",
   "nbconvert_exporter": "python",
   "pygments_lexer": "ipython3",
   "version": "3.7.4"
  }
 },
 "nbformat": 4,
 "nbformat_minor": 2
}
